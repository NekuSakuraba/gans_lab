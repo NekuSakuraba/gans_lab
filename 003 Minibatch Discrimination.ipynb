{
 "cells": [
  {
   "cell_type": "code",
   "execution_count": 1,
   "metadata": {},
   "outputs": [],
   "source": [
    "import numpy as np\n",
    "\n",
    "import tensorflow as tf\n",
    "from mnist_dataset import Dataset"
   ]
  },
  {
   "cell_type": "code",
   "execution_count": 2,
   "metadata": {},
   "outputs": [],
   "source": [
    "class GAN:\n",
    "    \n",
    "    def __init__(self, x_size, y_size, z_size):\n",
    "        self.x_size = x_size\n",
    "        self.y_size = y_size\n",
    "        self.z_size = z_size\n",
    "    \n",
    "        self.__build()\n",
    "    \n",
    "    def __build(self):\n",
    "        self.graph = tf.Graph()\n",
    "        with self.graph.as_default():\n",
    "            self.__placeholders()\n",
    "            \n",
    "            # generator\n",
    "            z = tf.random_uniform((tf.shape(self.X_lab)[0], self.z_size))\n",
    "            g_model = self.__get_generator(z)\n",
    "            \n",
    "            # discriminators\n",
    "            d_lab = self.__get_discriminator(self.X_lab)\n",
    "            d_unl = self.__get_discriminator(self.X_unl, True)\n",
    "            d_fake = self.__get_discriminator(g_model, True)\n",
    "            \n",
    "            # losses\n",
    "            ## Discriminator Loss\n",
    "            y_one_hot = tf.one_hot(self.y, 10)\n",
    "            loss_lab = tf.nn.softmax_cross_entropy_with_logits_v2(logits=d_lab, labels=y_one_hot)\n",
    "            loss_lab = tf.reduce_mean(loss_lab)\n",
    "            \n",
    "            l_unl = tf.reduce_logsumexp(d_unl, axis=1)\n",
    "            l_gen = tf.reduce_logsumexp(d_fake, axis=1)\n",
    "            loss_unl = -.5*tf.reduce_mean(l_unl) + \\\n",
    "                        .5*tf.reduce_mean(tf.nn.softplus(l_unl)) + \\\n",
    "                        .5*tf.reduce_mean(tf.nn.softplus(l_gen))\n",
    "            \n",
    "            self.loss_disc = loss_lab + loss_unl\n",
    "            \n",
    "            ## Generator Loss\n",
    "            self.loss_gen = -tf.reduce_mean(tf.nn.softplus(l_gen))\n",
    "            \n",
    "            # optimizer\n",
    "            t_vars = tf.trainable_variables()\n",
    "            g_vars = [var for var in t_vars if var.name.startswith('generator')]\n",
    "            d_vars = [var for var in t_vars if var.name.startswith('discriminator')]\n",
    "            \n",
    "            self.opt_disc = tf.train.AdamOptimizer(self.eta, .5).minimize(self.loss_disc, var_list=d_vars)\n",
    "            self.opt_gen  = tf.train.AdamOptimizer(self.eta, .5).minimize(self.loss_gen, var_list=g_vars)\n",
    "        \n",
    "            self.predict = d_lab\n",
    "            self.generator = self.__get_generator(z, True)\n",
    "    \n",
    "    def __placeholders(self):\n",
    "        self.X_lab = tf.placeholder(tf.float32, [None, self.x_size], 'X')\n",
    "        self.X_unl = tf.placeholder(tf.float32, [None, self.x_size], 'X_')\n",
    "        self.y = tf.placeholder(tf.int32, [None, self.y_size], 'y')\n",
    "        \n",
    "        self.eta = tf.placeholder(tf.float32, name='learning_rate')\n",
    "        self.is_training = tf.placeholder(tf.bool, name='is_training')\n",
    "    \n",
    "    def __get_generator(self, tensor, reuse=False):\n",
    "        with tf.variable_scope('generator', reuse=reuse):\n",
    "            tensor = tf.layers.dense(tensor, 500, tf.nn.softplus)\n",
    "            tensor = tf.layers.batch_normalization(tensor, training=self.is_training)\n",
    "            \n",
    "            tensor = tf.layers.dense(tensor, 500, tf.nn.softplus)\n",
    "            tensor = tf.layers.batch_normalization(tensor, training=self.is_training)\n",
    "            \n",
    "            tensor = tf.layers.dense(tensor, self.x_size, tf.nn.sigmoid)\n",
    "        return tf.nn.l2_normalize(tensor, axis=1)\n",
    "    \n",
    "    def __get_discriminator(self, tensor, reuse=False):\n",
    "        with tf.variable_scope('discriminator', reuse=reuse):\n",
    "            tensor = self.__add_noise(tensor, .3)\n",
    "            \n",
    "            tensor = tf.layers.dense(tensor, 1000, tf.nn.relu)\n",
    "            tensor = self.__add_noise(tensor, .5)\n",
    "            \n",
    "            tensor = tf.layers.dense(tensor, 500, tf.nn.relu)\n",
    "            tensor = self.__add_noise(tensor, .5)\n",
    "            \n",
    "            tensor = tf.layers.dense(tensor, 250, tf.nn.relu)\n",
    "            tensor = self.__add_noise(tensor, .5)\n",
    "            \n",
    "            tensor = tf.layers.dense(tensor, 250, tf.nn.relu)\n",
    "            tensor = self.__add_noise(tensor, .5)\n",
    "            \n",
    "            tensor = tf.layers.dense(tensor, 250, tf.nn.relu)\n",
    "            tensor = self.__minibatch(tensor, 100, 5)\n",
    "            \n",
    "            tensor = tf.layers.dense(tensor, 10)\n",
    "        return tensor\n",
    "    \n",
    "    def __add_noise(self, tensor, mu=0., std=1.):\n",
    "        noise = lambda: tensor + tf.random_normal(tf.shape(tensor), stddev=std)\n",
    "        no_noise = lambda: tensor\n",
    "        return tf.cond(self.is_training, noise, no_noise)\n",
    "    \n",
    "    def __minibatch(self, f, B, C):\n",
    "        _, A = f.get_shape()\n",
    "        T = tf.get_variable(\"T\", [A, B, C])\n",
    "        \n",
    "        M = tf.tensordot(f, T, [[1], [0]])\n",
    "        abs_dif = tf.reduce_sum(tf.abs(M[:,:,:,None] - tf.reshape(M, (1, B, C, -1))), axis=2)\n",
    "        result = tf.reduce_sum(tf.exp(-abs_dif), axis=2)\n",
    "        \n",
    "        result += tf.get_variable(\"b\", B)\n",
    "        return tf.concat([f, result], axis=1)\n",
    "    \n",
    "model = GAN(784, 1, 100)"
   ]
  },
  {
   "cell_type": "markdown",
   "metadata": {},
   "source": [
    "# Training the model"
   ]
  },
  {
   "cell_type": "code",
   "execution_count": 3,
   "metadata": {},
   "outputs": [],
   "source": [
    "SAMPLE_SIZE = 1000\n",
    "ix = np.random.choice(range(42000), SAMPLE_SIZE)\n",
    "not_in_ix = [i for i in range(42000) if i not in ix]\n",
    "\n",
    "dataset = Dataset('mnist_dataset/')\n",
    "X = dataset.train['images'][ix]\n",
    "y = dataset.train['labels'][ix]\n",
    "\n",
    "X_un = dataset.train['images'][not_in_ix]"
   ]
  },
  {
   "cell_type": "code",
   "execution_count": 4,
   "metadata": {},
   "outputs": [],
   "source": [
    "def next_batch(X, y, batch_size):\n",
    "    ix = np.random.choice(len(X), batch_size)\n",
    "    return X[ix], y[ix]\n",
    "\n",
    "def next_batch_(X, batch_size):\n",
    "    ix = np.random.choice(len(X), batch_size)\n",
    "    return X[ix]"
   ]
  },
  {
   "cell_type": "code",
   "execution_count": 5,
   "metadata": {},
   "outputs": [
    {
     "name": "stdout",
     "output_type": "stream",
     "text": [
      "INFO:tensorflow:Restoring parameters from ./models/mnist_minibatch_dicrimination\n",
      "Epoch   5/100 - DLoss: 0.595423 - GLoss: -0.005160\n",
      "Epoch  10/100 - DLoss: 0.623902 - GLoss: -0.003576\n",
      "Epoch  15/100 - DLoss: 0.614636 - GLoss: -0.006500\n",
      "Epoch  20/100 - DLoss: 0.602942 - GLoss: -0.004187\n",
      "Epoch  25/100 - DLoss: 0.554387 - GLoss: -0.006278\n",
      "Epoch  30/100 - DLoss: 0.552076 - GLoss: -0.003537\n",
      "Epoch  35/100 - DLoss: 0.580890 - GLoss: -0.003542\n",
      "Epoch  40/100 - DLoss: 0.568641 - GLoss: -0.004120\n",
      "Epoch  45/100 - DLoss: 0.556497 - GLoss: -0.003934\n",
      "Epoch  50/100 - DLoss: 0.553006 - GLoss: -0.005300\n",
      "Epoch  55/100 - DLoss: 0.599631 - GLoss: -0.005363\n",
      "Epoch  60/100 - DLoss: 0.518967 - GLoss: -0.005372\n",
      "Epoch  65/100 - DLoss: 0.513203 - GLoss: -0.004253\n",
      "Epoch  70/100 - DLoss: 0.530952 - GLoss: -0.004659\n",
      "Epoch  75/100 - DLoss: 0.563850 - GLoss: -0.003493\n",
      "Epoch  80/100 - DLoss: 0.558674 - GLoss: -0.002711\n",
      "Epoch  85/100 - DLoss: 0.563121 - GLoss: -0.004888\n",
      "Epoch  90/100 - DLoss: 0.453384 - GLoss: -0.006198\n",
      "Epoch  95/100 - DLoss: 0.535797 - GLoss: -0.004113\n",
      "Epoch 100/100 - DLoss: 0.527455 - GLoss: -0.005108\n"
     ]
    }
   ],
   "source": [
    "epochs = 100\n",
    "\n",
    "train_size = len(X)\n",
    "batch_size = 100\n",
    "\n",
    "model = GAN(784, 1, 100)\n",
    "model_name = 'mnist_minibatch_dicrimination'\n",
    "\n",
    "with tf.Session(graph=model.graph) as sess:\n",
    "    sess.run(tf.global_variables_initializer())\n",
    "    saver = tf.train.Saver()\n",
    "    saver.restore(sess, f'./models/{model_name}')\n",
    "    \n",
    "    for epoch in range(epochs):\n",
    "        d_losses, g_losses = list(), list()\n",
    "        for _ in range(train_size//batch_size):\n",
    "            x_batch, y_batch = next_batch(X, y, batch_size)\n",
    "            un_batch = next_batch_(X_un, batch_size)\n",
    "            \n",
    "            feed_dict = dict()\n",
    "            feed_dict[model.X_lab] = x_batch\n",
    "            feed_dict[model.X_unl] = un_batch\n",
    "            feed_dict[model.y] = y_batch\n",
    "            feed_dict[model.eta] = 3e-4\n",
    "            feed_dict[model.is_training] = True\n",
    "            \n",
    "            d_loss, _ = sess.run([model.loss_disc, model.opt_disc], feed_dict)\n",
    "            for _ in range(3):\n",
    "                g_loss, _ = sess.run([model.loss_gen, model.opt_gen], feed_dict)\n",
    "            \n",
    "            d_losses.append(d_loss); g_losses.append(g_loss)\n",
    "            print(f'\\rEpoch {epoch+1:3}/{epochs:3} - DLoss: {d_loss:.6f} - GLoss: {g_loss:.6f}', end='')\n",
    "        print(f'\\rEpoch {epoch+1:3}/{epochs:3} - DLoss: {np.mean(d_losses):.6f} - GLoss: {np.mean(g_losses):.6f}', end='')\n",
    "        if (epoch+1) % 5 == 0:\n",
    "            print('')\n",
    "    \n",
    "    saver.save(sess, f'./models/{model_name}')"
   ]
  },
  {
   "cell_type": "code",
   "execution_count": 20,
   "metadata": {},
   "outputs": [
    {
     "name": "stdout",
     "output_type": "stream",
     "text": [
      "INFO:tensorflow:Restoring parameters from ./models/mnist_minibatch_dicrimination\n"
     ]
    },
    {
     "data": {
      "text/plain": [
       "array([2, 0, 9, 9, 3, 7, 0, 3, 0, 3])"
      ]
     },
     "execution_count": 20,
     "metadata": {},
     "output_type": "execute_result"
    }
   ],
   "source": [
    "model = GAN(784, 1, 100)\n",
    "model_name = 'mnist_minibatch_dicrimination'\n",
    "\n",
    "with tf.Session(graph=model.graph) as sess:\n",
    "    saver = tf.train.Saver()\n",
    "    saver.restore(sess, f'./models/{model_name}')\n",
    "    \n",
    "    feed_dict = dict()\n",
    "    feed_dict[model.X_lab] = dataset.test['images'][:10]\n",
    "    feed_dict[model.is_training] = False\n",
    "    \n",
    "    result = sess.run(model.predict, feed_dict)\n",
    "    \n",
    "    feed_dict[model.X_lab] = dataset.test['images'][0,None]\n",
    "    img = sess.run(model.generator, feed_dict)\n",
    "np.argmax(result, axis=1)"
   ]
  },
  {
   "cell_type": "code",
   "execution_count": 7,
   "metadata": {},
   "outputs": [],
   "source": [
    "import matplotlib.pyplot as plt"
   ]
  },
  {
   "cell_type": "code",
   "execution_count": 8,
   "metadata": {},
   "outputs": [
    {
     "data": {
      "text/plain": [
       "<matplotlib.image.AxesImage at 0x7f3191709080>"
      ]
     },
     "execution_count": 8,
     "metadata": {},
     "output_type": "execute_result"
    },
    {
     "data": {
      "image/png": "[encoded data removed]",
      "text/plain": [
       "<Figure size 432x288 with 1 Axes>"
      ]
     },
     "metadata": {},
     "output_type": "display_data"
    }
   ],
   "source": [
    "plt.imshow(dataset.test['images'][:10].reshape(-1, 28))"
   ]
  },
  {
   "cell_type": "code",
   "execution_count": 21,
   "metadata": {},
   "outputs": [
    {
     "data": {
      "text/plain": [
       "<matplotlib.image.AxesImage at 0x7f325af1e7f0>"
      ]
     },
     "execution_count": 21,
     "metadata": {},
     "output_type": "execute_result"
    },
    {
     "data": {
      "image/png": "[encoded data removed]",
      "text/plain": [
       "<Figure size 432x288 with 1 Axes>"
      ]
     },
     "metadata": {},
     "output_type": "display_data"
    }
   ],
   "source": [
    "plt.imshow(img.reshape(-1, 28))"
   ]
  }
 ],
 "metadata": {
  "kernelspec": {
   "display_name": "Python 3",
   "language": "python",
   "name": "python3"
  },
  "language_info": {
   "codemirror_mode": {
    "name": "ipython",
    "version": 3
   },
   "file_extension": ".py",
   "mimetype": "text/x-python",
   "name": "python",
   "nbconvert_exporter": "python",
   "pygments_lexer": "ipython3",
   "version": "3.6.5"
  }
 },
 "nbformat": 4,
 "nbformat_minor": 2
}
