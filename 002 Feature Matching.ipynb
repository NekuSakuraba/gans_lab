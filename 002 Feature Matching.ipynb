{
 "cells": [
  {
   "cell_type": "code",
   "execution_count": 1,
   "metadata": {},
   "outputs": [],
   "source": [
    "import numpy as np\n",
    "\n",
    "import tensorflow as tf\n",
    "from mnist_dataset import Dataset"
   ]
  },
  {
   "cell_type": "code",
   "execution_count": 2,
   "metadata": {},
   "outputs": [],
   "source": [
    "class GAN:\n",
    "    \n",
    "    def __init__(self, x_size, y_size, z_size):\n",
    "        self.x_size = x_size\n",
    "        self.y_size = y_size\n",
    "        self.z_size = z_size\n",
    "    \n",
    "        self.__build()\n",
    "    \n",
    "    def __build(self):\n",
    "        self.graph = tf.Graph()\n",
    "        with self.graph.as_default():\n",
    "            self.__placeholders()\n",
    "            \n",
    "            # generator\n",
    "            z = tf.random_uniform((tf.shape(self.X_lab)[0], self.z_size))\n",
    "            g_model = self.__get_generator(z)\n",
    "            \n",
    "            # discriminators\n",
    "            d_lab, _ = self.__get_discriminator(self.X_lab)\n",
    "            d_unl, fn_1 = self.__get_discriminator(self.X_unl, True)\n",
    "            d_fake, fn_2 = self.__get_discriminator(g_model, True)\n",
    "            \n",
    "            # losses\n",
    "            ## Discriminator Loss\n",
    "            y_one_hot = tf.one_hot(self.y, 10)\n",
    "            loss_lab = tf.nn.softmax_cross_entropy_with_logits_v2(logits=d_lab, labels=y_one_hot)\n",
    "            loss_lab = tf.reduce_mean(loss_lab)\n",
    "            \n",
    "            l_unl = tf.reduce_logsumexp(d_unl, axis=1)\n",
    "            l_gen = tf.reduce_logsumexp(d_fake, axis=1)\n",
    "            loss_unl = -.5*tf.reduce_mean(l_unl) + \\\n",
    "                        .5*tf.reduce_mean(tf.nn.softplus(l_unl)) + \\\n",
    "                        .5*tf.reduce_mean(tf.nn.softplus(l_gen))\n",
    "            \n",
    "            self.loss_disc = loss_lab + loss_unl\n",
    "            \n",
    "            ## Generator Loss\n",
    "            self.loss_gen = tf.losses.mean_squared_error(fn_1, fn_2)\n",
    "            \n",
    "            # optimizer\n",
    "            t_vars = tf.trainable_variables()\n",
    "            g_vars = [var for var in t_vars if var.name.startswith('generator')]\n",
    "            d_vars = [var for var in t_vars if var.name.startswith('discriminator')]\n",
    "            \n",
    "            self.opt_disc = tf.train.AdamOptimizer(self.eta, .5).minimize(self.loss_disc, var_list=d_vars)\n",
    "            self.opt_gen  = tf.train.AdamOptimizer(self.eta, .5).minimize(self.loss_gen, var_list=g_vars)\n",
    "        \n",
    "        self.predict = d_lab\n",
    "        self.generator = g_model\n",
    "    \n",
    "    def __placeholders(self):\n",
    "        self.X_lab = tf.placeholder(tf.float32, [None, self.x_size], 'X')\n",
    "        self.X_unl = tf.placeholder(tf.float32, [None, self.x_size], 'X_')\n",
    "        self.y = tf.placeholder(tf.int32, [None, self.y_size], 'y')\n",
    "        \n",
    "        self.eta = tf.placeholder(tf.float32, name='learning_rate')\n",
    "        self.is_training = tf.placeholder(tf.bool, name='is_training')\n",
    "    \n",
    "    def __get_generator(self, tensor, reuse=False):\n",
    "        with tf.variable_scope('generator', reuse=reuse):\n",
    "            tensor = tf.layers.dense(tensor, 500, tf.nn.softplus)\n",
    "            tensor = tf.layers.batch_normalization(tensor, training=self.is_training)\n",
    "            \n",
    "            tensor = tf.layers.dense(tensor, 500, tf.nn.softplus)\n",
    "            tensor = tf.layers.batch_normalization(tensor, training=self.is_training)\n",
    "            \n",
    "            tensor = tf.layers.dense(tensor, self.x_size, tf.nn.sigmoid)\n",
    "        return tf.nn.l2_normalize(tensor, axis=1)\n",
    "    \n",
    "    def __get_discriminator(self, tensor, reuse=False):\n",
    "        with tf.variable_scope('discriminator', reuse=reuse):\n",
    "            tensor = self.__add_noise(tensor, .3)\n",
    "            \n",
    "            tensor = tf.layers.dense(tensor, 1000, tf.nn.relu)\n",
    "            tensor = self.__add_noise(tensor, .5)\n",
    "            \n",
    "            tensor = tf.layers.dense(tensor, 500, tf.nn.relu)\n",
    "            tensor = self.__add_noise(tensor, .5)\n",
    "            \n",
    "            tensor = tf.layers.dense(tensor, 250, tf.nn.relu)\n",
    "            tensor = self.__add_noise(tensor, .5)\n",
    "            \n",
    "            tensor = tf.layers.dense(tensor, 250, tf.nn.relu)\n",
    "            tensor = self.__add_noise(tensor, .5)\n",
    "            \n",
    "            tensor = fn = tf.layers.dense(tensor, 250, tf.nn.relu)\n",
    "            tensor = self.__add_noise(tensor, .5)\n",
    "            \n",
    "            tensor = tf.layers.dense(tensor, 10)\n",
    "        return tensor, fn\n",
    "    \n",
    "    def __add_noise(self, tensor, mu=0., std=1.):\n",
    "        noise = lambda: tensor + tf.random_normal(tf.shape(tensor), stddev=std)\n",
    "        no_noise = lambda: tensor\n",
    "        \n",
    "        return tf.cond(self.is_training, noise, no_noise)\n",
    "    \n",
    "model = GAN(784, 1, 100)"
   ]
  },
  {
   "cell_type": "markdown",
   "metadata": {},
   "source": [
    "# Training the model"
   ]
  },
  {
   "cell_type": "code",
   "execution_count": 4,
   "metadata": {},
   "outputs": [],
   "source": [
    "SAMPLE_SIZE = 1000\n",
    "ix = np.random.choice(range(42000), SAMPLE_SIZE)\n",
    "not_in_ix = [i for i in range(42000) if i not in ix]\n",
    "\n",
    "dataset = Dataset('mnist_dataset/')\n",
    "X = dataset.train['images'][ix]\n",
    "y = dataset.train['labels'][ix]\n",
    "\n",
    "X_un = dataset.train['images'][not_in_ix]"
   ]
  },
  {
   "cell_type": "code",
   "execution_count": 5,
   "metadata": {},
   "outputs": [],
   "source": [
    "def next_batch(X, y, batch_size):\n",
    "    ix = np.random.choice(len(X), batch_size)\n",
    "    return X[ix], y[ix]\n",
    "\n",
    "def next_batch_(X, batch_size):\n",
    "    ix = np.random.choice(len(X), batch_size)\n",
    "    return X[ix]"
   ]
  },
  {
   "cell_type": "code",
   "execution_count": 6,
   "metadata": {},
   "outputs": [
    {
     "name": "stdout",
     "output_type": "stream",
     "text": [
      "Epoch  25/300 - DLoss: 1.334552 - GLoss: 13.421591\n",
      "Epoch  50/300 - DLoss: 1.018598 - GLoss: 16.411457\n",
      "Epoch  75/300 - DLoss: 0.966072 - GLoss: 25.426922\n",
      "Epoch 100/300 - DLoss: 0.908740 - GLoss: 23.488132\n",
      "Epoch 125/300 - DLoss: 0.824247 - GLoss: 22.732841\n",
      "Epoch 150/300 - DLoss: 0.789415 - GLoss: 25.632410\n",
      "Epoch 175/300 - DLoss: 0.711045 - GLoss: 26.188156\n",
      "Epoch 200/300 - DLoss: 0.664727 - GLoss: 29.538647\n",
      "Epoch 225/300 - DLoss: 0.666569 - GLoss: 32.870842\n",
      "Epoch 250/300 - DLoss: 0.637830 - GLoss: 37.715130\n",
      "Epoch 275/300 - DLoss: 0.608617 - GLoss: 35.518421\n",
      "Epoch 300/300 - DLoss: 0.585164 - GLoss: 34.029194\n"
     ]
    }
   ],
   "source": [
    "epochs = 300\n",
    "\n",
    "train_size = len(X)\n",
    "batch_size = 100\n",
    "\n",
    "model = GAN(784, 1, 100)\n",
    "model_name = 'mnist_feature_matching'\n",
    "\n",
    "with tf.Session(graph=model.graph) as sess:\n",
    "    sess.run(tf.global_variables_initializer())\n",
    "    saver = tf.train.Saver()\n",
    "    \n",
    "    for epoch in range(epochs):\n",
    "        d_losses, g_losses = list(), list()\n",
    "        for _ in range(train_size//batch_size):\n",
    "            x_batch, y_batch = next_batch(X, y, batch_size)\n",
    "            un_batch = next_batch_(X_un, batch_size)\n",
    "            \n",
    "            feed_dict = dict()\n",
    "            feed_dict[model.X_lab] = x_batch\n",
    "            feed_dict[model.X_unl] = un_batch\n",
    "            feed_dict[model.y] = y_batch\n",
    "            feed_dict[model.eta] = 3e-3\n",
    "            feed_dict[model.is_training] = True\n",
    "            \n",
    "            d_loss, _ = sess.run([model.loss_disc, model.opt_disc], feed_dict)\n",
    "            g_loss, _ = sess.run([model.loss_gen, model.opt_gen], feed_dict)\n",
    "            d_losses.append(d_loss); g_losses.append(g_loss)\n",
    "            print(f'\\rEpoch {epoch+1:3}/{epochs:3} - DLoss: {d_loss:.6f} - GLoss: {g_loss:.6f}', end='')\n",
    "        print(f'\\rEpoch {epoch+1:3}/{epochs:3} - DLoss: {np.mean(d_losses):.6f} - GLoss: {np.mean(g_losses):.6f}', end='')\n",
    "        if (epoch+1) % 25 == 0:\n",
    "            print('')\n",
    "    \n",
    "    saver.save(sess, f'./models/{model_name}')"
   ]
  },
  {
   "cell_type": "code",
   "execution_count": 7,
   "metadata": {},
   "outputs": [
    {
     "name": "stdout",
     "output_type": "stream",
     "text": [
      "INFO:tensorflow:Restoring parameters from ./models/mnist_feature_matching\n"
     ]
    }
   ],
   "source": [
    "model = GAN(784, 1, 100)\n",
    "model_name = 'mnist_feature_matching'\n",
    "\n",
    "with tf.Session(graph=model.graph) as sess:\n",
    "    saver = tf.train.Saver()\n",
    "    saver.restore(sess, f'./models/{model_name}')\n",
    "    \n",
    "    feed_dict = dict()\n",
    "    feed_dict[model.X_lab] = dataset.test['images'][:10]\n",
    "    feed_dict[model.is_training] = False\n",
    "    \n",
    "    result = sess.run(model.predict, feed_dict)\n",
    "#     result = sess.run(model.generator, feed_dict)"
   ]
  },
  {
   "cell_type": "code",
   "execution_count": 8,
   "metadata": {},
   "outputs": [
    {
     "data": {
      "text/plain": [
       "array([2, 0, 9, 7, 3, 7, 0, 3, 0, 3])"
      ]
     },
     "execution_count": 8,
     "metadata": {},
     "output_type": "execute_result"
    }
   ],
   "source": [
    "np.argmax(result, axis=1)"
   ]
  },
  {
   "cell_type": "code",
   "execution_count": 9,
   "metadata": {},
   "outputs": [],
   "source": [
    "import matplotlib.pyplot as plt"
   ]
  },
  {
   "cell_type": "code",
   "execution_count": 12,
   "metadata": {},
   "outputs": [
    {
     "data": {
      "text/plain": [
       "<matplotlib.image.AxesImage at 0x7f02846beda0>"
      ]
     },
     "execution_count": 12,
     "metadata": {},
     "output_type": "execute_result"
    },
    {
     "data": {
      "image/png": "[encoded data removed]",
      "text/plain": [
       "<Figure size 432x288 with 1 Axes>"
      ]
     },
     "metadata": {},
     "output_type": "display_data"
    }
   ],
   "source": [
    "plt.imshow(dataset.test['images'][1].reshape(-1, 28))"
   ]
  }
 ],
 "metadata": {
  "kernelspec": {
   "display_name": "Python 3",
   "language": "python",
   "name": "python3"
  },
  "language_info": {
   "codemirror_mode": {
    "name": "ipython",
    "version": 3
   },
   "file_extension": ".py",
   "mimetype": "text/x-python",
   "name": "python",
   "nbconvert_exporter": "python",
   "pygments_lexer": "ipython3",
   "version": "3.6.5"
  }
 },
 "nbformat": 4,
 "nbformat_minor": 2
}
